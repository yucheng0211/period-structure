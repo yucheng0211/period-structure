{
 "cells": [
  {
   "cell_type": "code",
   "execution_count": 1,
   "id": "a4de5869-9480-4cf7-87d5-8c4342d2f7a1",
   "metadata": {},
   "outputs": [],
   "source": [
    "import meep as mp\n",
    "import numpy as np\n",
    "from matplotlib import pyplot as plt\n",
    "from IPython.display import Video"
   ]
  },
  {
   "cell_type": "code",
   "execution_count": 25,
   "id": "36918f7d-8e05-4963-82b0-34dcd2669ba5",
   "metadata": {},
   "outputs": [],
   "source": [
    "res = 20  # resolution pixels/um\n",
    "\n",
    "eps = 13  # dielectric constant of waveguide\n",
    "w = 1.2  # width of waveguide\n",
    "r = 2 # radius of holes\n",
    "d = 5 # defect spacing (ordinary spacing = 1)\n",
    "N = 6 # number of holes on either side of defect\n",
    "\n",
    "sy = 50 # size of cell in y direction (perpendicular to wvg.)\n",
    "pad = 2  # padding between last hole and PML edge\n",
    "dpml = 5  # PML thickness\n",
    "nfreq = 500  # number of frequencies at which to compute flux\n",
    "\n",
    "sx =20 # size of cell in x direction\n"
   ]
  },
  {
   "cell_type": "code",
   "execution_count": 67,
   "id": "5d823cdf-4c07-4f77-bc36-d147f46bbf76",
   "metadata": {},
   "outputs": [
    {
     "name": "stdout",
     "output_type": "stream",
     "text": [
      "-----------\n",
      "Initializing structure...\n",
      "Halving computational cell along direction x\n",
      "time for choose_chunkdivision = 0.00141788 s\n",
      "Working in 2D dimensions.\n",
      "Computational cell is 20 x 50 x 0 with resolution 20\n",
      "     cylinder, center = (0,0,0)\n",
      "          radius 2, height 1e+20, axis (0, 0, 1)\n",
      "          dielectric constant epsilon diagonal = (13,13,13)\n",
      "     cylinder, center = (-10,0,0)\n",
      "          radius 2, height 1e+20, axis (0, 0, 1)\n",
      "          dielectric constant epsilon diagonal = (13,13,13)\n",
      "     cylinder, center = (10,0,0)\n",
      "          radius 2, height 1e+20, axis (0, 0, 1)\n",
      "          dielectric constant epsilon diagonal = (13,13,13)\n",
      "     cylinder, center = (-5,0,0)\n",
      "          radius 2, height 1e+20, axis (0, 0, 1)\n",
      "          dielectric constant epsilon diagonal = (13,13,13)\n",
      "     cylinder, center = (5,0,0)\n",
      "          radius 2, height 1e+20, axis (0, 0, 1)\n",
      "          dielectric constant epsilon diagonal = (13,13,13)\n",
      "time for set_epsilon = 0.439256 s\n",
      "-----------\n",
      "Meep: using complex fields.\n",
      "Meep progress: 14.9/200.0 = 7.5% done in 4.0s, 49.7s to go\n",
      "on time step 596 (time=14.9), 0.00671933 s/step\n",
      "Meep progress: 30.0/200.0 = 15.0% done in 8.0s, 45.4s to go\n",
      "on time step 1200 (time=30), 0.00662762 s/step\n",
      "Meep progress: 45.025000000000006/200.0 = 22.5% done in 12.0s, 41.3s to go\n",
      "on time step 1802 (time=45.05), 0.00665582 s/step\n",
      "Meep progress: 60.075/200.0 = 30.0% done in 16.0s, 37.3s to go\n",
      "on time step 2404 (time=60.1), 0.00664761 s/step\n",
      "Meep progress: 75.15/200.0 = 37.6% done in 20.0s, 33.3s to go\n",
      "on time step 3007 (time=75.175), 0.00663859 s/step\n",
      "Meep progress: 90.15/200.0 = 45.1% done in 24.0s, 29.3s to go\n",
      "on time step 3607 (time=90.175), 0.00667572 s/step\n",
      "Meep progress: 105.17500000000001/200.0 = 52.6% done in 28.0s, 25.3s to go\n",
      "on time step 4208 (time=105.2), 0.00665966 s/step\n",
      "Meep progress: 120.075/200.0 = 60.0% done in 32.0s, 21.3s to go\n",
      "on time step 4804 (time=120.1), 0.00671798 s/step\n",
      "Meep progress: 135.0/200.0 = 67.5% done in 36.0s, 17.3s to go\n",
      "on time step 5401 (time=135.025), 0.00671284 s/step\n",
      "Meep progress: 149.85/200.0 = 74.9% done in 40.0s, 13.4s to go\n",
      "on time step 5996 (time=149.9), 0.00672362 s/step\n",
      "Meep progress: 164.85000000000002/200.0 = 82.4% done in 44.0s, 9.4s to go\n",
      "on time step 6596 (time=164.9), 0.00666977 s/step\n",
      "Meep progress: 179.82500000000002/200.0 = 89.9% done in 48.0s, 5.4s to go\n",
      "on time step 7195 (time=179.875), 0.0066822 s/step\n",
      "Meep progress: 194.9/200.0 = 97.5% done in 52.0s, 1.4s to go\n",
      "on time step 7798 (time=194.95), 0.00664169 s/step\n",
      "run 0 finished at t = 200.0 (8000 timesteps)\n",
      "     cylinder, center = (0,0,0)\n",
      "          radius 2, height 1e+20, axis (0, 0, 1)\n",
      "          dielectric constant epsilon diagonal = (13,13,13)\n",
      "     cylinder, center = (-10,0,0)\n",
      "          radius 2, height 1e+20, axis (0, 0, 1)\n",
      "          dielectric constant epsilon diagonal = (13,13,13)\n",
      "     cylinder, center = (10,0,0)\n",
      "          radius 2, height 1e+20, axis (0, 0, 1)\n",
      "          dielectric constant epsilon diagonal = (13,13,13)\n",
      "     cylinder, center = (-5,0,0)\n",
      "          radius 2, height 1e+20, axis (0, 0, 1)\n",
      "          dielectric constant epsilon diagonal = (13,13,13)\n",
      "     cylinder, center = (5,0,0)\n",
      "          radius 2, height 1e+20, axis (0, 0, 1)\n",
      "          dielectric constant epsilon diagonal = (13,13,13)\n"
     ]
    },
    {
     "data": {
      "image/png": "[encoded data removed]",
      "text/plain": [
       "<Figure size 900x600 with 1 Axes>"
      ]
     },
     "metadata": {
      "needs_background": "light"
     },
     "output_type": "display_data"
    }
   ],
   "source": [
    "cell = mp.Vector3(sx, sy, 0) # cell size \n",
    "\n",
    "geometry = []\n",
    "geometry.append(mp.Cylinder(r, center=mp.Vector3(0,0,0), material=mp.Medium(epsilon=eps)))\n",
    "geometry.append(mp.Cylinder(r, center=mp.Vector3(-(sx/2),0,0), material=mp.Medium(epsilon=eps)))\n",
    "geometry.append(mp.Cylinder(r, center=mp.Vector3((sx/2),0,0), material=mp.Medium(epsilon=eps)))\n",
    "geometry.append(mp.Cylinder(r, center=mp.Vector3(-(sx/4),0,0), material=mp.Medium(epsilon=eps)))\n",
    "geometry.append(mp.Cylinder(r, center=mp.Vector3((sx/4),0,0), material=mp.Medium(epsilon=eps)))\n",
    "\n",
    "\n",
    "pml_layers = [mp.PML(thickness=dpml,direction=mp.Y)]\n",
    "\n",
    "fcen = 0.25  # pulse center frequency\n",
    "df = 50  # pulse frequency width\n",
    "\n",
    "\n",
    "src = [mp.Source(mp.ContinuousSource(frequency=fcen, fwidth=df, is_integrated=True),\n",
    "                     component=mp.Ex,\n",
    "                     center=mp.Vector3(0,-((sy/2)-2*dpml+2),0),\n",
    "                     size=mp.Vector3(sx,0,0))]\n",
    "sym = [mp.Mirror(mp.X, phase=-1)]\n",
    "\n",
    "sim = mp.Simulation(\n",
    "    cell_size=cell,\n",
    "    geometry=geometry,\n",
    "    boundary_layers=pml_layers,\n",
    "    sources=src,\n",
    "    symmetries=sym,\n",
    "    resolution=res,\n",
    "    k_point=mp.Vector3((1/sx),0,0)\n",
    ")\n",
    "\n",
    "# freg1 = mp.FluxRegion(center=mp.Vector3(0,(sy/2-1.5*dpml)), size=mp.Vector3(sx,0))\n",
    "# trans = sim.add_flux(fcen, df, nfreq, freg1)\n",
    "# freg2 = mp.FluxRegion(center=mp.Vector3(0,-(sy/2-1.5*dpml)), size=mp.Vector3(sx,0))\n",
    "# refl = sim.add_flux(fcen, df, nfreq, freg2)\n",
    "# source = mp.FluxRegion(center=mp.Vector3(0,-4,0), size=mp.Vector3(sx,0))\n",
    "# sourcef = sim.add_flux(fcen, df, nfreq, source)\n",
    "\n",
    "# source flux\n",
    "source_fr = mp.FluxRegion(center=mp.Vector3(0,-((sy/2)-2*dpml+1),0), size=mp.Vector3(sx,0,0))\n",
    "source = sim.add_flux(fcen, df, nfreq, source_fr)\n",
    "\n",
    "# reflected flux\n",
    "refl_fr = mp.FluxRegion(center=mp.Vector3(0,-((sy/2)-2*dpml+3),0), size=mp.Vector3(sx,0,0))\n",
    "refl = sim.add_flux(fcen, df, nfreq, refl_fr)\n",
    "\n",
    "# transmitted flux\n",
    "tran_fr = mp.FluxRegion(center=mp.Vector3(0,((sy/2)-dpml-1),0), size=mp.Vector3(sx,0,0))\n",
    "tran = sim.add_flux(fcen, df, nfreq, tran_fr)\n",
    "\n",
    "sim.run(until=200)\n",
    "\n",
    "f = plt.figure(dpi=150)\n",
    "sim.plot2D(ax=f.gca())\n",
    "plt.show()\n"
   ]
  },
  {
   "cell_type": "code",
   "execution_count": 68,
   "id": "bc5182b4-7999-453f-8252-b3a4a83ff657",
   "metadata": {},
   "outputs": [],
   "source": [
    "source_data = mp.get_fluxes(source)\n",
    "refl_data   = mp.get_fluxes(refl)\n",
    "tran_data   = mp.get_fluxes(tran)"
   ]
  },
  {
   "cell_type": "code",
   "execution_count": 69,
   "id": "1d32adba-f010-4ea1-8a9b-89fbe66149ec",
   "metadata": {},
   "outputs": [],
   "source": [
    "flux_freqs = mp.get_flux_freqs(source)"
   ]
  },
  {
   "cell_type": "code",
   "execution_count": 70,
   "id": "a4295797-3acc-49e1-b7f1-d3a514644871",
   "metadata": {},
   "outputs": [
    {
     "data": {
      "image/png": "[encoded data removed]",
      "text/plain": [
       "<Figure size 432x288 with 1 Axes>"
      ]
     },
     "metadata": {
      "needs_background": "light"
     },
     "output_type": "display_data"
    },
    {
     "data": {
      "image/png": "[encoded data removed]",
      "text/plain": [
       "<Figure size 432x288 with 1 Axes>"
      ]
     },
     "metadata": {
      "needs_background": "light"
     },
     "output_type": "display_data"
    },
    {
     "data": {
      "image/png": "[encoded data removed]",
      "text/plain": [
       "<Figure size 432x288 with 1 Axes>"
      ]
     },
     "metadata": {
      "needs_background": "light"
     },
     "output_type": "display_data"
    }
   ],
   "source": [
    "wl = []\n",
    "Rs = []\n",
    "Ts = []\n",
    "\n",
    "for i in range(nfreq):\n",
    "    wl = np.append(wl, flux_freqs[i])\n",
    "    Rs = np.append(Rs,refl_data[i]/source_data[i])\n",
    "    Ts = np.append(Ts,tran_data[i]/source_data[i])\n",
    "if mp.am_master():\n",
    "    plt.figure()\n",
    "    plt.plot(wl,Rs,'bo-',label='reflectance')\n",
    "    plt.xlabel(\"freq (Hz)\")\n",
    "    plt.legend(loc=\"upper right\")\n",
    "    plt.show()\n",
    "    plt.plot(wl,Ts,'ro-',label='transmittance')\n",
    "    plt.xlabel(\"freq (Hz)\")\n",
    "    plt.legend(loc=\"upper right\")\n",
    "    plt.show()\n",
    "    plt.plot(wl,1-Rs-Ts,'go-',label='loss')\n",
    "    plt.xlabel(\"freq (Hz)\")\n",
    "    plt.legend(loc=\"upper right\")\n",
    "    plt.show()"
   ]
  },
  {
   "cell_type": "code",
   "execution_count": null,
   "id": "cbf344bd-bb31-4a19-b0a4-2fb02af3de8b",
   "metadata": {},
   "outputs": [],
   "source": []
  }
 ],
 "metadata": {
  "kernelspec": {
   "display_name": "mp",
   "language": "python",
   "name": "mp"
  },
  "language_info": {
   "codemirror_mode": {
    "name": "ipython",
    "version": 3
   },
   "file_extension": ".py",
   "mimetype": "text/x-python",
   "name": "python",
   "nbconvert_exporter": "python",
   "pygments_lexer": "ipython3",
   "version": "3.11.4"
  }
 },
 "nbformat": 4,
 "nbformat_minor": 5
}
